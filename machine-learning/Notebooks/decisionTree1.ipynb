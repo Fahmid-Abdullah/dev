{
 "cells": [
  {
   "cell_type": "code",
   "execution_count": null,
   "id": "e0103f2b",
   "metadata": {},
   "outputs": [],
   "source": [
    "from sklearn.datasets import load_iris\n",
    "from sklearn.tree import DecisionTreeClassifier, plot_tree\n",
    "from sklearn.model_selection import train_test_split\n",
    "import matplotlib.pyplot as plt\n",
    "\n",
    "# Load the Iris dataset\n",
    "iris = load_iris()\n",
    "X, y = iris.data, iris.target\n",
    "\n",
    "# Split the data\n",
    "X_train, X_test, y_train, y_test = train_test_split(X, y, test_size=0.3, random_state=42)\n",
    "\n",
    "# Train the decision tree classifier\n",
    "# 🌳 Decision Tree Hyperparameters Reference\n",
    "\n",
    "# max_depth: Limits the depth of the tree (helps prevent overfitting).\n",
    "# Example: max_depth=3\n",
    "\n",
    "# min_samples_split: Minimum number of samples required to split an internal node.\n",
    "# Example: min_samples_split=10\n",
    "\n",
    "# min_samples_leaf: Minimum number of samples required to be at a leaf node.\n",
    "# Useful for smoothing predictions and avoiding small, noisy leaves.\n",
    "# Example: min_samples_leaf=5\n",
    "\n",
    "# max_features: Number of features to consider when looking for the best split.\n",
    "# Options: int, float (fraction), 'sqrt', 'log2', or None (default: all features)\n",
    "# Example: max_features='sqrt'\n",
    "\n",
    "# criterion: Function to measure split quality.\n",
    "# Options: 'gini' (default), 'entropy', 'log_loss'\n",
    "# Example: criterion='entropy'\n",
    "\n",
    "# splitter: Strategy for choosing the split at each node.\n",
    "# Options: 'best' (default), 'random'\n",
    "# Example: splitter='random'\n",
    "\n",
    "# random_state: Controls randomness for reproducibility.\n",
    "# Example: random_state=42\n",
    "\n",
    "# max_leaf_nodes: Limits the number of leaf nodes. Useful for pruning.\n",
    "# Example: max_leaf_nodes=10\n",
    "\n",
    "# class_weight: Adjusts weight for imbalanced classes.\n",
    "# Options: None (default), 'balanced', or dict like {0: 1, 1: 5}\n",
    "# Example: class_weight='balanced'\n",
    "clf = DecisionTreeClassifier(max_depth=3, random_state=42)\n",
    "clf.fit(X_train, y_train)"
   ]
  },
  {
   "cell_type": "code",
   "execution_count": null,
   "id": "60b873df",
   "metadata": {},
   "outputs": [],
   "source": [
    "# Visualize the decision tree\n",
    "plt.figure(figsize=(12, 6))\n",
    "plot_tree(clf, \n",
    "          filled=True, \n",
    "          feature_names=iris.feature_names, \n",
    "          class_names=iris.target_names)\n",
    "plt.title(\"Decision Tree Trained on Iris Dataset\")\n",
    "plt.show()\n"
   ]
  }
 ],
 "metadata": {
  "kernelspec": {
   "display_name": "venv",
   "language": "python",
   "name": "python3"
  },
  "language_info": {
   "codemirror_mode": {
    "name": "ipython",
    "version": 3
   },
   "file_extension": ".py",
   "mimetype": "text/x-python",
   "name": "python",
   "nbconvert_exporter": "python",
   "pygments_lexer": "ipython3",
   "version": "3.9.0"
  }
 },
 "nbformat": 4,
 "nbformat_minor": 5
}
