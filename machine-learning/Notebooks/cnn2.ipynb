{
 "cells": [
  {
   "cell_type": "code",
   "execution_count": null,
   "id": "ac736278",
   "metadata": {},
   "outputs": [],
   "source": [
    "import tensorflow as tf \n",
    "from tensorflow.keras import datasets, layers, models\n",
    "import matplotlib.pyplot as plt\n",
    "import numpy as np"
   ]
  },
  {
   "cell_type": "code",
   "execution_count": 43,
   "id": "c8ae7661",
   "metadata": {},
   "outputs": [],
   "source": [
    "(X_train, y_train), (X_test, y_test) = datasets.cifar10.load_data()"
   ]
  },
  {
   "cell_type": "code",
   "execution_count": null,
   "id": "1585a060",
   "metadata": {},
   "outputs": [],
   "source": [
    "X_train.shape # Returns (50000, 32, 32, 3), meaning 50,000 images that are 32x32 pixels with 3 RGB color channels."
   ]
  },
  {
   "cell_type": "code",
   "execution_count": null,
   "id": "8996866c",
   "metadata": {},
   "outputs": [],
   "source": [
    "plt.imshow(X_train[1])"
   ]
  },
  {
   "cell_type": "code",
   "execution_count": null,
   "id": "8cd79750",
   "metadata": {},
   "outputs": [],
   "source": [
    "y_train.shape"
   ]
  },
  {
   "cell_type": "code",
   "execution_count": 44,
   "id": "9c659b45",
   "metadata": {},
   "outputs": [
    {
     "data": {
      "text/plain": [
       "(50000,)"
      ]
     },
     "execution_count": 44,
     "metadata": {},
     "output_type": "execute_result"
    }
   ],
   "source": [
    "# It is a 2D array of shape (50000, 1), but we only need a 1D array of labels — one label per image. \n",
    "# So we reshape it to (50000,) using reshape(-1,), which keeps the first dimension and removes the second.\n",
    "y_train = y_train.reshape(-1,) # Keep first dimension, remove second.\n",
    "y_train.shape"
   ]
  },
  {
   "cell_type": "code",
   "execution_count": 45,
   "id": "a39fb549",
   "metadata": {},
   "outputs": [],
   "source": [
    "classes = [\"airplane\", \"automobile\", \"bird\", \"cat\", \"deer\", \"dog\", \"frog\", \"horse\", \"ship\", \"truck\"]\n",
    "\n",
    "def plot_sample(X, y, index):\n",
    "    plt.figure(figsize=(2, 2))\n",
    "    plt.imshow(X[index])\n",
    "    plt.xlabel(classes[y[index]])"
   ]
  },
  {
   "cell_type": "code",
   "execution_count": null,
   "id": "306f294c",
   "metadata": {},
   "outputs": [],
   "source": [
    "plot_sample(X_train, y_train, 0)"
   ]
  },
  {
   "cell_type": "code",
   "execution_count": null,
   "id": "3f5ad84d",
   "metadata": {},
   "outputs": [],
   "source": [
    "X_train[0]"
   ]
  },
  {
   "cell_type": "code",
   "execution_count": 46,
   "id": "20375d82",
   "metadata": {},
   "outputs": [],
   "source": [
    "# Normalizing\n",
    "# This makes training more stable and faster, especially for activation functions like ReLU, sigmoid, or tanh.\n",
    "X_train = X_train / 255\n",
    "X_test = X_test / 255"
   ]
  },
  {
   "cell_type": "code",
   "execution_count": null,
   "id": "5d337e4d",
   "metadata": {},
   "outputs": [],
   "source": [
    "X_train"
   ]
  },
  {
   "cell_type": "code",
   "execution_count": null,
   "id": "b518953b",
   "metadata": {},
   "outputs": [],
   "source": [
    "# Model\n",
    "model = models.Sequential()\n",
    "\n",
    "# The general structure here is to do:\n",
    "# Conv layers => Pooling layer => Conv layers => Pooling layer => Flatten => Dense layers\n",
    "\n",
    "# Analogy\n",
    "# Imagine looking at a Where’s Waldo puzzle:\n",
    "#     First pass (Conv1): You scan for red and white stripes.\n",
    "#     Zoom out a bit (Pool1): Focus only on areas with strong stripe presence.\n",
    "#     Second pass (Conv2): Now look for the whole figure (head, glasses).\n",
    "#     Zoom out again (Pool2): Keep only the best matching regions.\n",
    "#     Eventually, you say: “That’s Waldo!”\n",
    "\n",
    "# You aren't limited to 1 conv layer at a time. For finer/larger images, you can do multiple.\n",
    "# Analogy\n",
    "# Imagine you're scanning a blueprint:\n",
    "#     You want to carefully analyze fine details of the structure before zooming out.\n",
    "#     If you zoom out too early (pool too soon), you miss important connections.\n",
    "#     So you study (conv), study again (conv), then compress your understanding (pool)."
   ]
  },
  {
   "cell_type": "code",
   "execution_count": null,
   "id": "ae4ca9ee",
   "metadata": {},
   "outputs": [],
   "source": [
    "# First convolutional layer\n",
    "# - 32 filters (output channels), each of size 3x3\n",
    "# - 'same' padding keeps output size the same as input (32x32)\n",
    "# - ReLU introduces non-linearity\n",
    "model.add(layers.Conv2D(32, (3, 3), padding='same', activation='relu', input_shape=(32, 32, 3)))"
   ]
  },
  {
   "cell_type": "code",
   "execution_count": null,
   "id": "d1a08290",
   "metadata": {},
   "outputs": [],
   "source": [
    "# Max pooling layer\n",
    "# - Reduces spatial dimensions (downsamples) by taking the max of each 2x2 region\n",
    "model.add(layers.MaxPooling2D(pool_size=(2, 2)))"
   ]
  },
  {
   "cell_type": "code",
   "execution_count": null,
   "id": "b7f78d4e",
   "metadata": {},
   "outputs": [],
   "source": [
    "# Third convolutional layer\n",
    "# - Increases filter count to 64 for deeper feature extraction\n",
    "model.add(layers.Conv2D(64, (3, 3), padding='same', activation='relu'))"
   ]
  },
  {
   "cell_type": "code",
   "execution_count": null,
   "id": "393c9d9a",
   "metadata": {},
   "outputs": [],
   "source": [
    "# Second max pooling layer\n",
    "model.add(layers.MaxPooling2D(pool_size=(2, 2)))"
   ]
  },
  {
   "cell_type": "code",
   "execution_count": null,
   "id": "758f0661",
   "metadata": {},
   "outputs": [],
   "source": [
    "# Flatten the 3D output to 1D before feeding into dense layers\n",
    "model.add(layers.Flatten())"
   ]
  },
  {
   "cell_type": "code",
   "execution_count": null,
   "id": "a197ac6d",
   "metadata": {},
   "outputs": [],
   "source": [
    "# Fully connected layer with 512 neurons\n",
    "model.add(layers.Dense(512, activation='relu'))"
   ]
  },
  {
   "cell_type": "code",
   "execution_count": null,
   "id": "aa4b9105",
   "metadata": {},
   "outputs": [],
   "source": [
    "# Output layer with 10 neurons (one for each class)\n",
    "# Softmax activation turns logits into probabilities\n",
    "model.add(layers.Dense(10, activation='softmax'))"
   ]
  },
  {
   "cell_type": "code",
   "execution_count": null,
   "id": "5ae67306",
   "metadata": {},
   "outputs": [],
   "source": [
    "# There is also a layer called dropout reduce overfitting by randomly disabling n% of neurons during training\n",
    "# For example: model.add(layers.Dropout(0.25))"
   ]
  },
  {
   "cell_type": "code",
   "execution_count": null,
   "id": "81092508",
   "metadata": {},
   "outputs": [],
   "source": [
    "# Compile the model\n",
    "# - 'adam' is a fast optimizer that adjusts learning rate during training\n",
    "# - 'sparse_categorical_crossentropy' is used since labels are integers (not one-hot)\n",
    "# - We track accuracy as our evaluation metric\n",
    "model.compile(optimizer='adam',\n",
    "              loss='sparse_categorical_crossentropy',\n",
    "              metrics=['accuracy'])\n",
    "\n",
    "# Print the model summary to inspect the architecture\n",
    "model.summary()"
   ]
  },
  {
   "cell_type": "code",
   "execution_count": null,
   "id": "ba3510bb",
   "metadata": {},
   "outputs": [],
   "source": [
    "# Train the CNN model on training data\n",
    "# - epochs=10: multiple passes over data help the model gradually learn patterns\n",
    "# - batch_size=64: balancing memory usage and stable gradient updates by processing 64 samples at once\n",
    "# - validation_data=(X_test, y_test): monitor how well the model generalizes on unseen data after each epoch to catch overfitting early\n",
    "history = model.fit(\n",
    "    X_train, y_train,\n",
    "    epochs=10,\n",
    "    batch_size=64,\n",
    "    validation_data=(X_test, y_test)\n",
    ")\n"
   ]
  },
  {
   "cell_type": "code",
   "execution_count": 47,
   "id": "eda9991d",
   "metadata": {},
   "outputs": [
    {
     "name": "stdout",
     "output_type": "stream",
     "text": [
      "313/313 - 2s - 5ms/step - accuracy: 0.7120 - loss: 1.4026\n",
      "Test accuracy: 0.7120\n"
     ]
    }
   ],
   "source": [
    "# Evaluate the final model performance on the test set\n",
    "test_loss, test_acc = model.evaluate(X_test, y_test, verbose=2)\n",
    "print(f\"Test accuracy: {test_acc:.4f}\")"
   ]
  },
  {
   "cell_type": "code",
   "execution_count": 48,
   "id": "debf173d",
   "metadata": {},
   "outputs": [],
   "source": [
    "y_test = y_test.reshape(-1,)"
   ]
  },
  {
   "cell_type": "code",
   "execution_count": 49,
   "id": "0a198e88",
   "metadata": {},
   "outputs": [
    {
     "name": "stdout",
     "output_type": "stream",
     "text": [
      "\u001b[1m313/313\u001b[0m \u001b[32m━━━━━━━━━━━━━━━━━━━━\u001b[0m\u001b[37m\u001b[0m \u001b[1m1s\u001b[0m 5ms/step\n"
     ]
    }
   ],
   "source": [
    "# Predict class probabilities for all test images\n",
    "y_pred = model.predict(X_test)\n",
    "\n",
    "# Convert predicted probabilities to class labels by selecting\n",
    "# the index with the highest probability\n",
    "y_classes = [np.argmax(element) for element in y_pred]"
   ]
  },
  {
   "cell_type": "code",
   "execution_count": 53,
   "id": "f4ff737b",
   "metadata": {},
   "outputs": [
    {
     "data": {
      "image/png": "[encoded data removed]",
      "text/plain": [
       "<Figure size 200x200 with 1 Axes>"
      ]
     },
     "metadata": {},
     "output_type": "display_data"
    }
   ],
   "source": [
    "plot_sample(X_test, y_test, 50)"
   ]
  }
 ],
 "metadata": {
  "kernelspec": {
   "display_name": "tfenv",
   "language": "python",
   "name": "python3"
  },
  "language_info": {
   "codemirror_mode": {
    "name": "ipython",
    "version": 3
   },
   "file_extension": ".py",
   "mimetype": "text/x-python",
   "name": "python",
   "nbconvert_exporter": "python",
   "pygments_lexer": "ipython3",
   "version": "3.10.0"
  }
 },
 "nbformat": 4,
 "nbformat_minor": 5
}
