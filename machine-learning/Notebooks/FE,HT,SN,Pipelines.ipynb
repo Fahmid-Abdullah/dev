{
 "cells": [
  {
   "cell_type": "markdown",
   "id": "c90cae34",
   "metadata": {},
   "source": [
    "## Feature Engineering"
   ]
  },
  {
   "cell_type": "code",
   "execution_count": 22,
   "id": "e18379c5",
   "metadata": {},
   "outputs": [
    {
     "data": {
      "text/html": [
       "<div>\n",
       "<style scoped>\n",
       "    .dataframe tbody tr th:only-of-type {\n",
       "        vertical-align: middle;\n",
       "    }\n",
       "\n",
       "    .dataframe tbody tr th {\n",
       "        vertical-align: top;\n",
       "    }\n",
       "\n",
       "    .dataframe thead th {\n",
       "        text-align: right;\n",
       "    }\n",
       "</style>\n",
       "<table border=\"1\" class=\"dataframe\">\n",
       "  <thead>\n",
       "    <tr style=\"text-align: right;\">\n",
       "      <th></th>\n",
       "      <th>MedInc</th>\n",
       "      <th>HouseAge</th>\n",
       "      <th>AveRooms</th>\n",
       "      <th>AveBedrms</th>\n",
       "      <th>Population</th>\n",
       "      <th>AveOccup</th>\n",
       "      <th>Latitude</th>\n",
       "      <th>Longitude</th>\n",
       "    </tr>\n",
       "  </thead>\n",
       "  <tbody>\n",
       "    <tr>\n",
       "      <th>0</th>\n",
       "      <td>8.3252</td>\n",
       "      <td>41.0</td>\n",
       "      <td>6.984127</td>\n",
       "      <td>1.023810</td>\n",
       "      <td>322.0</td>\n",
       "      <td>2.555556</td>\n",
       "      <td>37.88</td>\n",
       "      <td>-122.23</td>\n",
       "    </tr>\n",
       "    <tr>\n",
       "      <th>1</th>\n",
       "      <td>8.3014</td>\n",
       "      <td>21.0</td>\n",
       "      <td>6.238137</td>\n",
       "      <td>0.971880</td>\n",
       "      <td>2401.0</td>\n",
       "      <td>2.109842</td>\n",
       "      <td>37.86</td>\n",
       "      <td>-122.22</td>\n",
       "    </tr>\n",
       "    <tr>\n",
       "      <th>2</th>\n",
       "      <td>7.2574</td>\n",
       "      <td>52.0</td>\n",
       "      <td>8.288136</td>\n",
       "      <td>1.073446</td>\n",
       "      <td>496.0</td>\n",
       "      <td>2.802260</td>\n",
       "      <td>37.85</td>\n",
       "      <td>-122.24</td>\n",
       "    </tr>\n",
       "    <tr>\n",
       "      <th>3</th>\n",
       "      <td>5.6431</td>\n",
       "      <td>52.0</td>\n",
       "      <td>5.817352</td>\n",
       "      <td>1.073059</td>\n",
       "      <td>558.0</td>\n",
       "      <td>2.547945</td>\n",
       "      <td>37.85</td>\n",
       "      <td>-122.25</td>\n",
       "    </tr>\n",
       "    <tr>\n",
       "      <th>4</th>\n",
       "      <td>3.8462</td>\n",
       "      <td>52.0</td>\n",
       "      <td>6.281853</td>\n",
       "      <td>1.081081</td>\n",
       "      <td>565.0</td>\n",
       "      <td>2.181467</td>\n",
       "      <td>37.85</td>\n",
       "      <td>-122.25</td>\n",
       "    </tr>\n",
       "  </tbody>\n",
       "</table>\n",
       "</div>"
      ],
      "text/plain": [
       "   MedInc  HouseAge  AveRooms  AveBedrms  Population  AveOccup  Latitude  \\\n",
       "0  8.3252      41.0  6.984127   1.023810       322.0  2.555556     37.88   \n",
       "1  8.3014      21.0  6.238137   0.971880      2401.0  2.109842     37.86   \n",
       "2  7.2574      52.0  8.288136   1.073446       496.0  2.802260     37.85   \n",
       "3  5.6431      52.0  5.817352   1.073059       558.0  2.547945     37.85   \n",
       "4  3.8462      52.0  6.281853   1.081081       565.0  2.181467     37.85   \n",
       "\n",
       "   Longitude  \n",
       "0    -122.23  \n",
       "1    -122.22  \n",
       "2    -122.24  \n",
       "3    -122.25  \n",
       "4    -122.25  "
      ]
     },
     "execution_count": 22,
     "metadata": {},
     "output_type": "execute_result"
    }
   ],
   "source": [
    "import pandas as pd\n",
    "import numpy as np\n",
    "from sklearn.datasets import fetch_california_housing\n",
    "\n",
    "# Load sample data\n",
    "data = fetch_california_housing(as_frame=True)\n",
    "df = data.frame.copy()\n",
    "X = df.drop('MedHouseVal', axis=1)\n",
    "y = df['MedHouseVal']\n",
    "\n",
    "# Check a few columns\n",
    "X.head()"
   ]
  },
  {
   "cell_type": "markdown",
   "id": "c5a04f61",
   "metadata": {},
   "source": [
    "### Interaction Features"
   ]
  },
  {
   "cell_type": "code",
   "execution_count": 23,
   "id": "ae37ab74",
   "metadata": {},
   "outputs": [],
   "source": [
    "# Create a new interaction feature: total rooms per household\n",
    "X['AveBedrmsToRooms'] = X['AveBedrms'] / X['AveRooms']"
   ]
  },
  {
   "cell_type": "markdown",
   "id": "4678970a",
   "metadata": {},
   "source": [
    "### Binning"
   ]
  },
  {
   "cell_type": "code",
   "execution_count": 24,
   "id": "59b20a80",
   "metadata": {},
   "outputs": [],
   "source": [
    "# Bin median income into 5 equal-frequency bins\n",
    "X['IncomeBin'] = pd.qcut(X['MedInc'], q=5, labels=False)"
   ]
  },
  {
   "cell_type": "markdown",
   "id": "73a3aaae",
   "metadata": {},
   "source": [
    "### Log Tranform Skewed Data"
   ]
  },
  {
   "cell_type": "code",
   "execution_count": 25,
   "id": "6fd0478d",
   "metadata": {},
   "outputs": [],
   "source": [
    "X['LogAveOccup'] = np.log1p(X['AveOccup'])  # log(1 + x) to handle zeros"
   ]
  },
  {
   "cell_type": "markdown",
   "id": "4f1bbdde",
   "metadata": {},
   "source": [
    "### Polynomial Features (For making linear regression model work with curves)"
   ]
  },
  {
   "cell_type": "code",
   "execution_count": 26,
   "id": "37d001fa",
   "metadata": {},
   "outputs": [],
   "source": [
    "import numpy as np\n",
    "import matplotlib.pyplot as plt\n",
    "from sklearn.linear_model import LinearRegression\n",
    "from sklearn.preprocessing import PolynomialFeatures\n",
    "from sklearn.pipeline import make_pipeline\n",
    "from sklearn.metrics import mean_squared_error\n",
    "\n",
    "# Simulate non-linear data\n",
    "np.random.seed(42)\n",
    "X = np.linspace(0, 10, 100).reshape(-1, 1)\n",
    "y = 0.5 * X**2 - 3*X + 4 + np.random.randn(*X.shape) * 2  # True relationship is quadratic"
   ]
  },
  {
   "cell_type": "code",
   "execution_count": 27,
   "id": "eacfd3bf",
   "metadata": {},
   "outputs": [
    {
     "data": {
      "image/png": "[encoded data removed]",
      "text/plain": [
       "<Figure size 1000x600 with 1 Axes>"
      ]
     },
     "metadata": {},
     "output_type": "display_data"
    }
   ],
   "source": [
    "# Fit a straight line\n",
    "linreg = LinearRegression()\n",
    "linreg.fit(X, y)\n",
    "y_pred_linear = linreg.predict(X)\n",
    "\n",
    "plt.figure(figsize=(10, 6))\n",
    "plt.scatter(X, y, color='blue', alpha=0.6, label=\"Data\")\n",
    "plt.plot(X, y_pred_linear, color='red', label=\"Linear Regression\")\n",
    "plt.title(\"Linear Regression Can't Fit the Curve Well\")\n",
    "plt.legend()\n",
    "plt.show()"
   ]
  },
  {
   "cell_type": "code",
   "execution_count": 28,
   "id": "02295771",
   "metadata": {},
   "outputs": [
    {
     "data": {
      "image/png": "[encoded data removed]",
      "text/plain": [
       "<Figure size 1000x600 with 1 Axes>"
      ]
     },
     "metadata": {},
     "output_type": "display_data"
    },
    {
     "name": "stdout",
     "output_type": "stream",
     "text": [
      "Linear RMSE: 4.307953395112289\n",
      "Polynomial RMSE: 1.8019974334578452\n"
     ]
    }
   ],
   "source": [
    "# Create a pipeline: Polynomial -> Linear Regression\n",
    "from sklearn.metrics import root_mean_squared_error\n",
    "\n",
    "poly_model = make_pipeline(PolynomialFeatures(degree=2), LinearRegression())\n",
    "poly_model.fit(X, y)\n",
    "y_pred_poly = poly_model.predict(X)\n",
    "\n",
    "plt.figure(figsize=(10, 6))\n",
    "plt.scatter(X, y, color='blue', alpha=0.6, label=\"Data\")\n",
    "plt.plot(X, y_pred_poly, color='green', label=\"Polynomial Regression (Degree 2)\")\n",
    "plt.title(\"Polynomial Regression Captures the Curve\")\n",
    "plt.legend()\n",
    "plt.show()\n",
    "\n",
    "# Compare RMSE\n",
    "print(\"Linear RMSE:\", root_mean_squared_error(y, y_pred_linear))\n",
    "print(\"Polynomial RMSE:\", root_mean_squared_error(y, y_pred_poly))\n"
   ]
  },
  {
   "cell_type": "markdown",
   "id": "4beb0a61",
   "metadata": {},
   "source": [
    "## Hyperparameter Tuning"
   ]
  },
  {
   "cell_type": "code",
   "execution_count": 29,
   "id": "f828d005",
   "metadata": {},
   "outputs": [
    {
     "name": "stdout",
     "output_type": "stream",
     "text": [
      "Best Params: {'max_depth': 5, 'min_samples_split': 5, 'n_estimators': 50}\n",
      "Best RMSE: 5.028945275701667\n"
     ]
    },
    {
     "name": "stderr",
     "output_type": "stream",
     "text": [
      "e:\\projects\\machine-learning\\Notebooks\\venv\\lib\\site-packages\\sklearn\\base.py:1389: DataConversionWarning: A column-vector y was passed when a 1d array was expected. Please change the shape of y to (n_samples,), for example using ravel().\n",
      "  return fit_method(estimator, *args, **kwargs)\n"
     ]
    }
   ],
   "source": [
    "from sklearn.model_selection import GridSearchCV\n",
    "from sklearn.ensemble import RandomForestRegressor\n",
    "\n",
    "param_grid = {\n",
    "    'n_estimators': [50, 100],\n",
    "    'max_depth': [5, 10, None],\n",
    "    'min_samples_split': [2, 5],\n",
    "}\n",
    "\n",
    "model = RandomForestRegressor(random_state=42)\n",
    "grid = GridSearchCV(model, param_grid, cv=3, scoring='neg_root_mean_squared_error', n_jobs=-1)\n",
    "grid.fit(X, y)\n",
    "\n",
    "print(\"Best Params:\", grid.best_params_)\n",
    "print(\"Best RMSE:\", -grid.best_score_)"
   ]
  },
  {
   "cell_type": "code",
   "execution_count": 30,
   "id": "d8dd503f",
   "metadata": {},
   "outputs": [
    {
     "name": "stdout",
     "output_type": "stream",
     "text": [
      "{'subsample': 1.0, 'n_estimators': 100, 'max_depth': 3, 'learning_rate': 0.1}\n"
     ]
    }
   ],
   "source": [
    "from sklearn.model_selection import RandomizedSearchCV\n",
    "from xgboost import XGBRegressor\n",
    "\n",
    "xgb = XGBRegressor()\n",
    "params = {\n",
    "    'n_estimators': [100, 200, 300],\n",
    "    'max_depth': [3, 5, 7],\n",
    "    'learning_rate': [0.01, 0.1, 0.3],\n",
    "    'subsample': [0.6, 0.8, 1.0],\n",
    "}\n",
    "\n",
    "search = RandomizedSearchCV(xgb, params, n_iter=10, cv=3, scoring='neg_mean_squared_error')\n",
    "search.fit(X, y)\n",
    "print(search.best_params_)"
   ]
  },
  {
   "cell_type": "markdown",
   "id": "c09bd123",
   "metadata": {},
   "source": [
    "## Scaling and Normalization"
   ]
  },
  {
   "cell_type": "code",
   "execution_count": null,
   "id": "5309ff9d",
   "metadata": {},
   "outputs": [
    {
     "name": "stdout",
     "output_type": "stream",
     "text": [
      "   AveRooms HouseQuality  AveRooms_Standard  AveRooms_MinMax  AveRooms_Robust  \\\n",
      "0  5.993428          Low           0.070933         0.471613        -0.024189   \n",
      "1  4.723471       Medium          -0.854819         0.161669        -0.694233   \n",
      "2  6.295377         High           0.291042         0.545307         0.135123   \n",
      "3  8.046060          Low           1.567225         0.972576         1.058803   \n",
      "4  4.531693       Medium          -0.994618         0.114864        -0.795417   \n",
      "\n",
      "   AveRooms_Power  HouseQuality_Ordinal  Neighborhood_B  Neighborhood_C  \n",
      "0        0.208039                     0           False           False  \n",
      "1       -0.836326                     1            True           False  \n",
      "2        0.418047                     2           False           False  \n",
      "3        1.434394                     0           False            True  \n",
      "4       -1.022248                     1            True           False  \n"
     ]
    }
   ],
   "source": [
    "import numpy as np\n",
    "import pandas as pd\n",
    "from sklearn.preprocessing import (\n",
    "    StandardScaler, MinMaxScaler, RobustScaler, PowerTransformer, LabelEncoder\n",
    ")\n",
    "\n",
    "# Generate synthetic data\n",
    "np.random.seed(42)\n",
    "df = pd.DataFrame({\n",
    "    'AveRooms': np.random.normal(5, 2, 10),\n",
    "    'HouseQuality': ['Low', 'Medium', 'High', 'Low', 'Medium', 'High', 'Medium', 'Low', 'High', 'Medium'],\n",
    "    'Neighborhood': ['A', 'B', 'A', 'C', 'B', 'A', 'C', 'C', 'B', 'A']\n",
    "})\n",
    "\n",
    "# --- SCALING NUMERIC FEATURE: AveRooms ---\n",
    "\n",
    "# StandardScaler: centers data around 0 with unit variance\n",
    "df['AveRooms_Standard'] = StandardScaler().fit_transform(df[['AveRooms']])\n",
    "\n",
    "# MinMaxScaler: scales all values between 0 and 1\n",
    "df['AveRooms_MinMax'] = MinMaxScaler().fit_transform(df[['AveRooms']])\n",
    "\n",
    "# RobustScaler: removes median and scales by IQR\n",
    "df['AveRooms_Robust'] = RobustScaler().fit_transform(df[['AveRooms']])\n",
    "\n",
    "# PowerTransformer (Yeo-Johnson): makes data more Gaussian\n",
    "df['AveRooms_Power'] = PowerTransformer().fit_transform(df[['AveRooms']])\n",
    "\n",
    "# --- ORDINAL ENCODING ---\n",
    "\n",
    "# Ordinal feature (HouseQuality): has a meaningful order\n",
    "ordinal_map = {'Low': 0, 'Medium': 1, 'High': 2}\n",
    "df['HouseQuality_Ordinal'] = df['HouseQuality'].map(ordinal_map)\n",
    "\n",
    "# --- NOMINAL ENCODING OPTIONS ---\n",
    "\n",
    "# Option A: One-hot encoding (good for linear models)\n",
    "df_onehot = pd.get_dummies(df, columns=['Neighborhood'], drop_first=True)\n",
    "\n",
    "# Option B: Label encoding (good for tree-based models like XGBoost, Random Forest)\n",
    "le = LabelEncoder()\n",
    "df['Neighborhood_LabelEncoded'] = le.fit_transform(df['Neighborhood'])\n",
    "\n",
    "# --- FINAL OUTPUT ---\n",
    "print(\"With One-Hot Encoding:\")\n",
    "print(df_onehot.head(), end=\"\\n\\n\")\n",
    "\n",
    "print(\"With Label Encoding:\")\n",
    "print(df[['Neighborhood', 'Neighborhood_LabelEncoded']].head())\n",
    "\n",
    "# 🔧 GENERAL SCALING STRATEGY:\n",
    "\n",
    "# Feature Pattern           → Recommended Scaler      → Reason\n",
    "# -------------------------------------------------------------\n",
    "# Wide range / outliers     → RobustScaler            → Resilient to outliers\n",
    "# Moderate variance         → StandardScaler          → Normalizes to N(0,1)\n",
    "# Bounded / known range     → MinMaxScaler            → Good for [0, 1] scaling\n",
    "# Categorical (numeric)     → Leave as-is or OneHot   → Use if encoded or for IDs"
   ]
  },
  {
   "cell_type": "markdown",
   "id": "b8fd44b7",
   "metadata": {},
   "source": [
    "## Pipelining"
   ]
  },
  {
   "cell_type": "code",
   "execution_count": 39,
   "id": "37c1f2c6",
   "metadata": {},
   "outputs": [],
   "source": [
    "from sklearn.datasets import fetch_california_housing\n",
    "from sklearn.ensemble import RandomForestRegressor\n",
    "from sklearn.preprocessing import StandardScaler, OneHotEncoder\n",
    "from sklearn.compose import ColumnTransformer\n",
    "from sklearn.pipeline import Pipeline\n",
    "import pandas as pd\n",
    "\n",
    "# Load and prepare dataset\n",
    "data = fetch_california_housing()\n",
    "tempX = pd.DataFrame(data.data, columns=data.feature_names)\n",
    "y = data.target  # Ensure y has the same length\n",
    "\n",
    "# Add binned categorical column\n",
    "tempX['IncomeBin'] = pd.qcut(tempX['MedInc'], q=5, labels=False)\n",
    "\n",
    "# Define numeric and categorical columns\n",
    "num_cols = tempX.select_dtypes(include='number').columns.tolist()\n",
    "num_cols.remove('MedInc')  # Optionally drop MedInc if you're binning it\n",
    "cat_cols = ['IncomeBin']\n",
    "\n",
    "# Define preprocessing\n",
    "preprocessor = ColumnTransformer([\n",
    "    ('num', StandardScaler(), num_cols),\n",
    "    ('cat', OneHotEncoder(handle_unknown='ignore'), cat_cols)\n",
    "])\n",
    "\n",
    "# Build pipeline\n",
    "pipe = Pipeline([\n",
    "    ('prep', preprocessor),\n",
    "    ('model', RandomForestRegressor(n_estimators=100, random_state=42))\n",
    "])\n",
    "\n",
    "# Fit and predict\n",
    "pipe.fit(tempX, y)\n",
    "y_pred = pipe.predict(tempX)"
   ]
  }
 ],
 "metadata": {
  "kernelspec": {
   "display_name": "venv",
   "language": "python",
   "name": "python3"
  },
  "language_info": {
   "codemirror_mode": {
    "name": "ipython",
    "version": 3
   },
   "file_extension": ".py",
   "mimetype": "text/x-python",
   "name": "python",
   "nbconvert_exporter": "python",
   "pygments_lexer": "ipython3",
   "version": "3.9.0"
  }
 },
 "nbformat": 4,
 "nbformat_minor": 5
}
