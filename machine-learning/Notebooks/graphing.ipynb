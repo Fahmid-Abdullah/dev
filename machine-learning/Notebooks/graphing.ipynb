{
 "cells": [
  {
   "cell_type": "markdown",
   "id": "9bd32f79",
   "metadata": {},
   "source": [
    "## Importing Libraries and Dataset"
   ]
  },
  {
   "cell_type": "code",
   "execution_count": null,
   "id": "04cc7d0f",
   "metadata": {},
   "outputs": [],
   "source": [
    "import numpy as np\n",
    "import pandas as pd\n",
    "import matplotlib.pyplot as plt\n",
    "import seaborn as sns\n",
    "from sklearn.model_selection import train_test_split"
   ]
  },
  {
   "cell_type": "code",
   "execution_count": null,
   "id": "7de50aff",
   "metadata": {},
   "outputs": [],
   "source": [
    "from sklearn.datasets import load_diabetes\n",
    "\n",
    "data = load_diabetes()\n",
    "df = pd.DataFrame(data.data, columns=data.feature_names)\n",
    "df['target'] = data.target"
   ]
  },
  {
   "cell_type": "code",
   "execution_count": null,
   "id": "427bd508",
   "metadata": {},
   "outputs": [],
   "source": [
    "df.head()"
   ]
  },
  {
   "cell_type": "markdown",
   "id": "66c2e4b8",
   "metadata": {},
   "source": [
    "## Graphs"
   ]
  },
  {
   "cell_type": "markdown",
   "id": "62d70331",
   "metadata": {},
   "source": [
    "### Distribution"
   ]
  },
  {
   "cell_type": "code",
   "execution_count": null,
   "id": "6d3022f3",
   "metadata": {},
   "outputs": [],
   "source": [
    "# Helps check skew/outliers\n",
    "\n",
    "for col in df.columns[:-1]:\n",
    "    plt.figure()\n",
    "    sns.histplot(df[col], kde=True) # kde adds the curve estimating probability density\n",
    "    plt.title(f'Distribution of {col}')\n",
    "    plt.xlabel(col)\n",
    "    plt.ylabel('Frequency')\n",
    "    plt.tight_layout()\n",
    "    plt.show()"
   ]
  },
  {
   "cell_type": "markdown",
   "id": "a5ce80a9",
   "metadata": {},
   "source": [
    "### Data Scatter"
   ]
  },
  {
   "cell_type": "code",
   "execution_count": null,
   "id": "9bba0829",
   "metadata": {},
   "outputs": [],
   "source": [
    "# Understand data scatter between train and test set\n",
    "\n",
    "for feature in df.columns[:-1]:\n",
    "    X = df[[feature]]\n",
    "    y = df['target']\n",
    "    X_train, X_test, y_train, y_test = train_test_split(X, y, test_size=0.2, random_state=42)\n",
    "\n",
    "    plt.figure()\n",
    "    plt.scatter(X_train, y_train, label='Train', alpha=0.6) # alpha is transparency\n",
    "    plt.scatter(X_test, y_test, label='Test', alpha=0.6, color='orange')\n",
    "    plt.title(f'{feature} vs target - Train vs Test (Visualize split balance)')\n",
    "    plt.xlabel(feature)\n",
    "    plt.ylabel('target')\n",
    "    plt.legend()\n",
    "    plt.tight_layout()\n",
    "    plt.show()"
   ]
  },
  {
   "cell_type": "markdown",
   "id": "888d62cb",
   "metadata": {},
   "source": [
    "### Prediction Line"
   ]
  },
  {
   "cell_type": "code",
   "execution_count": null,
   "id": "0b4f7fe7",
   "metadata": {},
   "outputs": [],
   "source": [
    "# Prediction line to see performance\n",
    "\n",
    "from sklearn.linear_model import LinearRegression\n",
    "\n",
    "for feature in df.columns[:-1]:\n",
    "    X = df[[feature]]\n",
    "    y = df['target']\n",
    "    X_train, X_test, y_train, y_test = train_test_split(X, y, test_size=0.2, random_state=42)\n",
    "    model = LinearRegression()\n",
    "    model.fit(X_train, y_train)\n",
    "\n",
    "    x_range = np.linspace(X[feature].min(), X[feature].max(), 100).reshape(-1, 1)\n",
    "    y_pred_line = model.predict(x_range)\n",
    "\n",
    "    plt.figure()\n",
    "    plt.scatter(X_train, y_train, label='Train', alpha=0.6)\n",
    "    plt.scatter(X_test, y_test, label='Test', alpha=0.6, color='orange')\n",
    "    plt.plot(x_range, y_pred_line, label='Prediction Line', color='red')\n",
    "    plt.title(f'Regression Line Over Data ({feature})')\n",
    "    plt.xlabel(feature)\n",
    "    plt.ylabel('target')\n",
    "    plt.legend()\n",
    "    plt.tight_layout()\n",
    "    plt.show()\n"
   ]
  },
  {
   "cell_type": "code",
   "execution_count": 15,
   "id": "38f107d9",
   "metadata": {},
   "outputs": [
    {
     "name": "stdout",
     "output_type": "stream",
     "text": [
      "Collecting shap\n",
      "  Downloading shap-0.48.0-cp39-cp39-win_amd64.whl.metadata (25 kB)\n",
      "Requirement already satisfied: numpy in e:\\projects\\machine-learning\\notebooks\\venv\\lib\\site-packages (from shap) (2.0.2)\n",
      "Requirement already satisfied: scipy in e:\\projects\\machine-learning\\notebooks\\venv\\lib\\site-packages (from shap) (1.13.1)\n",
      "Requirement already satisfied: scikit-learn in e:\\projects\\machine-learning\\notebooks\\venv\\lib\\site-packages (from shap) (1.6.1)\n",
      "Requirement already satisfied: pandas in e:\\projects\\machine-learning\\notebooks\\venv\\lib\\site-packages (from shap) (2.3.0)\n",
      "Collecting tqdm>=4.27.0 (from shap)\n",
      "  Downloading tqdm-4.67.1-py3-none-any.whl.metadata (57 kB)\n",
      "Requirement already satisfied: packaging>20.9 in e:\\projects\\machine-learning\\notebooks\\venv\\lib\\site-packages (from shap) (25.0)\n",
      "Collecting slicer==0.0.8 (from shap)\n",
      "  Downloading slicer-0.0.8-py3-none-any.whl.metadata (4.0 kB)\n",
      "Collecting numba>=0.54 (from shap)\n",
      "  Downloading numba-0.60.0-cp39-cp39-win_amd64.whl.metadata (2.8 kB)\n",
      "Collecting cloudpickle (from shap)\n",
      "  Downloading cloudpickle-3.1.1-py3-none-any.whl.metadata (7.1 kB)\n",
      "Requirement already satisfied: typing-extensions in e:\\projects\\machine-learning\\notebooks\\venv\\lib\\site-packages (from shap) (4.14.0)\n",
      "Collecting llvmlite<0.44,>=0.43.0dev0 (from numba>=0.54->shap)\n",
      "  Downloading llvmlite-0.43.0-cp39-cp39-win_amd64.whl.metadata (4.9 kB)\n",
      "Requirement already satisfied: colorama in e:\\projects\\machine-learning\\notebooks\\venv\\lib\\site-packages (from tqdm>=4.27.0->shap) (0.4.6)\n",
      "Requirement already satisfied: python-dateutil>=2.8.2 in e:\\projects\\machine-learning\\notebooks\\venv\\lib\\site-packages (from pandas->shap) (2.9.0.post0)\n",
      "Requirement already satisfied: pytz>=2020.1 in e:\\projects\\machine-learning\\notebooks\\venv\\lib\\site-packages (from pandas->shap) (2025.2)\n",
      "Requirement already satisfied: tzdata>=2022.7 in e:\\projects\\machine-learning\\notebooks\\venv\\lib\\site-packages (from pandas->shap) (2025.2)\n",
      "Requirement already satisfied: six>=1.5 in e:\\projects\\machine-learning\\notebooks\\venv\\lib\\site-packages (from python-dateutil>=2.8.2->pandas->shap) (1.17.0)\n",
      "Requirement already satisfied: joblib>=1.2.0 in e:\\projects\\machine-learning\\notebooks\\venv\\lib\\site-packages (from scikit-learn->shap) (1.5.1)\n",
      "Requirement already satisfied: threadpoolctl>=3.1.0 in e:\\projects\\machine-learning\\notebooks\\venv\\lib\\site-packages (from scikit-learn->shap) (3.6.0)\n",
      "Downloading shap-0.48.0-cp39-cp39-win_amd64.whl (544 kB)\n",
      "   ---------------------------------------- 0.0/544.9 kB ? eta -:--:--\n",
      "   --------------------------------------- 544.9/544.9 kB 18.9 MB/s eta 0:00:00\n",
      "Downloading slicer-0.0.8-py3-none-any.whl (15 kB)\n",
      "Downloading numba-0.60.0-cp39-cp39-win_amd64.whl (2.7 MB)\n",
      "   ---------------------------------------- 0.0/2.7 MB ? eta -:--:--\n",
      "   ---------------------------------------- 2.7/2.7 MB 51.6 MB/s eta 0:00:00\n",
      "Downloading llvmlite-0.43.0-cp39-cp39-win_amd64.whl (28.1 MB)\n",
      "   ---------------------------------------- 0.0/28.1 MB ? eta -:--:--\n",
      "   --------------- ------------------------ 10.7/28.1 MB 51.7 MB/s eta 0:00:01\n",
      "   -------------------------------- ------- 22.5/28.1 MB 54.9 MB/s eta 0:00:01\n",
      "   ---------------------------------------- 28.1/28.1 MB 50.9 MB/s eta 0:00:00\n",
      "Downloading tqdm-4.67.1-py3-none-any.whl (78 kB)\n",
      "Downloading cloudpickle-3.1.1-py3-none-any.whl (20 kB)\n",
      "Installing collected packages: tqdm, slicer, llvmlite, cloudpickle, numba, shap\n",
      "\n",
      "   ---------------------------------------- 0/6 [tqdm]\n",
      "   ---------------------------------------- 0/6 [tqdm]\n",
      "   ---------------------------------------- 0/6 [tqdm]\n",
      "   ---------------------------------------- 0/6 [tqdm]\n",
      "   ---------------------------------------- 0/6 [tqdm]\n",
      "   ---------------------------------------- 0/6 [tqdm]\n",
      "   ---------------------------------------- 0/6 [tqdm]\n",
      "   ---------------------------------------- 0/6 [tqdm]\n",
      "   ---------------------------------------- 0/6 [tqdm]\n",
      "   ------ --------------------------------- 1/6 [slicer]\n",
      "   ------------- -------------------------- 2/6 [llvmlite]\n",
      "   ------------- -------------------------- 2/6 [llvmlite]\n",
      "   ------------- -------------------------- 2/6 [llvmlite]\n",
      "   ------------- -------------------------- 2/6 [llvmlite]\n",
      "   ------------- -------------------------- 2/6 [llvmlite]\n",
      "   ------------- -------------------------- 2/6 [llvmlite]\n",
      "   ------------- -------------------------- 2/6 [llvmlite]\n",
      "   -------------------------- ------------- 4/6 [numba]\n",
      "   -------------------------- ------------- 4/6 [numba]\n",
      "   -------------------------- ------------- 4/6 [numba]\n",
      "   -------------------------- ------------- 4/6 [numba]\n",
      "   -------------------------- ------------- 4/6 [numba]\n",
      "   -------------------------- ------------- 4/6 [numba]\n",
      "   -------------------------- ------------- 4/6 [numba]\n",
      "   -------------------------- ------------- 4/6 [numba]\n",
      "   -------------------------- ------------- 4/6 [numba]\n",
      "   -------------------------- ------------- 4/6 [numba]\n",
      "   -------------------------- ------------- 4/6 [numba]\n",
      "   -------------------------- ------------- 4/6 [numba]\n",
      "   -------------------------- ------------- 4/6 [numba]\n",
      "   -------------------------- ------------- 4/6 [numba]\n",
      "   -------------------------- ------------- 4/6 [numba]\n",
      "   -------------------------- ------------- 4/6 [numba]\n",
      "   -------------------------- ------------- 4/6 [numba]\n",
      "   -------------------------- ------------- 4/6 [numba]\n",
      "   -------------------------- ------------- 4/6 [numba]\n",
      "   -------------------------- ------------- 4/6 [numba]\n",
      "   -------------------------- ------------- 4/6 [numba]\n",
      "   -------------------------- ------------- 4/6 [numba]\n",
      "   -------------------------- ------------- 4/6 [numba]\n",
      "   -------------------------- ------------- 4/6 [numba]\n",
      "   -------------------------- ------------- 4/6 [numba]\n",
      "   -------------------------- ------------- 4/6 [numba]\n",
      "   -------------------------- ------------- 4/6 [numba]\n",
      "   -------------------------- ------------- 4/6 [numba]\n",
      "   -------------------------- ------------- 4/6 [numba]\n",
      "   -------------------------- ------------- 4/6 [numba]\n",
      "   -------------------------- ------------- 4/6 [numba]\n",
      "   -------------------------- ------------- 4/6 [numba]\n",
      "   -------------------------- ------------- 4/6 [numba]\n",
      "   -------------------------- ------------- 4/6 [numba]\n",
      "   -------------------------- ------------- 4/6 [numba]\n",
      "   -------------------------- ------------- 4/6 [numba]\n",
      "   -------------------------- ------------- 4/6 [numba]\n",
      "   -------------------------- ------------- 4/6 [numba]\n",
      "   -------------------------- ------------- 4/6 [numba]\n",
      "   -------------------------- ------------- 4/6 [numba]\n",
      "   -------------------------- ------------- 4/6 [numba]\n",
      "   -------------------------- ------------- 4/6 [numba]\n",
      "   -------------------------- ------------- 4/6 [numba]\n",
      "   -------------------------- ------------- 4/6 [numba]\n",
      "   -------------------------- ------------- 4/6 [numba]\n",
      "   -------------------------- ------------- 4/6 [numba]\n",
      "   -------------------------- ------------- 4/6 [numba]\n",
      "   -------------------------- ------------- 4/6 [numba]\n",
      "   -------------------------- ------------- 4/6 [numba]\n",
      "   -------------------------- ------------- 4/6 [numba]\n",
      "   -------------------------- ------------- 4/6 [numba]\n",
      "   -------------------------- ------------- 4/6 [numba]\n",
      "   -------------------------- ------------- 4/6 [numba]\n",
      "   -------------------------- ------------- 4/6 [numba]\n",
      "   -------------------------- ------------- 4/6 [numba]\n",
      "   -------------------------- ------------- 4/6 [numba]\n",
      "   -------------------------- ------------- 4/6 [numba]\n",
      "   -------------------------- ------------- 4/6 [numba]\n",
      "   -------------------------- ------------- 4/6 [numba]\n",
      "   -------------------------- ------------- 4/6 [numba]\n",
      "   -------------------------- ------------- 4/6 [numba]\n",
      "   -------------------------- ------------- 4/6 [numba]\n",
      "   -------------------------- ------------- 4/6 [numba]\n",
      "   -------------------------- ------------- 4/6 [numba]\n",
      "   -------------------------- ------------- 4/6 [numba]\n",
      "   -------------------------- ------------- 4/6 [numba]\n",
      "   -------------------------- ------------- 4/6 [numba]\n",
      "   -------------------------- ------------- 4/6 [numba]\n",
      "   -------------------------- ------------- 4/6 [numba]\n",
      "   -------------------------- ------------- 4/6 [numba]\n",
      "   -------------------------- ------------- 4/6 [numba]\n",
      "   -------------------------- ------------- 4/6 [numba]\n",
      "   -------------------------- ------------- 4/6 [numba]\n",
      "   -------------------------- ------------- 4/6 [numba]\n",
      "   -------------------------- ------------- 4/6 [numba]\n",
      "   -------------------------- ------------- 4/6 [numba]\n",
      "   -------------------------- ------------- 4/6 [numba]\n",
      "   -------------------------- ------------- 4/6 [numba]\n",
      "   -------------------------- ------------- 4/6 [numba]\n",
      "   -------------------------- ------------- 4/6 [numba]\n",
      "   -------------------------- ------------- 4/6 [numba]\n",
      "   -------------------------- ------------- 4/6 [numba]\n",
      "   -------------------------- ------------- 4/6 [numba]\n",
      "   -------------------------- ------------- 4/6 [numba]\n",
      "   -------------------------- ------------- 4/6 [numba]\n",
      "   -------------------------- ------------- 4/6 [numba]\n",
      "   -------------------------- ------------- 4/6 [numba]\n",
      "   -------------------------- ------------- 4/6 [numba]\n",
      "   -------------------------- ------------- 4/6 [numba]\n",
      "   -------------------------- ------------- 4/6 [numba]\n",
      "   --------------------------------- ------ 5/6 [shap]\n",
      "   --------------------------------- ------ 5/6 [shap]\n",
      "   --------------------------------- ------ 5/6 [shap]\n",
      "   --------------------------------- ------ 5/6 [shap]\n",
      "   --------------------------------- ------ 5/6 [shap]\n",
      "   --------------------------------- ------ 5/6 [shap]\n",
      "   --------------------------------- ------ 5/6 [shap]\n",
      "   --------------------------------- ------ 5/6 [shap]\n",
      "   --------------------------------- ------ 5/6 [shap]\n",
      "   --------------------------------- ------ 5/6 [shap]\n",
      "   --------------------------------- ------ 5/6 [shap]\n",
      "   --------------------------------- ------ 5/6 [shap]\n",
      "   --------------------------------- ------ 5/6 [shap]\n",
      "   --------------------------------- ------ 5/6 [shap]\n",
      "   --------------------------------- ------ 5/6 [shap]\n",
      "   ---------------------------------------- 6/6 [shap]\n",
      "\n",
      "Successfully installed cloudpickle-3.1.1 llvmlite-0.43.0 numba-0.60.0 shap-0.48.0 slicer-0.0.8 tqdm-4.67.1\n",
      "Note: you may need to restart the kernel to use updated packages.\n"
     ]
    },
    {
     "name": "stderr",
     "output_type": "stream",
     "text": [
      "WARNING: Ignoring invalid distribution -ip (e:\\projects\\machine-learning\\notebooks\\venv\\lib\\site-packages)\n",
      "WARNING: Ignoring invalid distribution -ip (e:\\projects\\machine-learning\\notebooks\\venv\\lib\\site-packages)\n",
      "WARNING: Ignoring invalid distribution -ip (e:\\projects\\machine-learning\\notebooks\\venv\\lib\\site-packages)\n"
     ]
    }
   ],
   "source": [
    "pip install shap"
   ]
  },
  {
   "cell_type": "code",
   "execution_count": 16,
   "id": "c650c51e",
   "metadata": {},
   "outputs": [
    {
     "data": {
      "image/png": "[encoded data removed]",
      "text/plain": [
       "<Figure size 1000x600 with 2 Axes>"
      ]
     },
     "metadata": {},
     "output_type": "display_data"
    },
    {
     "data": {
      "image/png": "[encoded data removed]",
      "text/plain": [
       "<Figure size 800x190 with 1 Axes>"
      ]
     },
     "metadata": {},
     "output_type": "display_data"
    }
   ],
   "source": [
    "from sklearn.inspection import PartialDependenceDisplay\n",
    "import shap\n",
    "\n",
    "coefs = np.abs(model.coef_)\n",
    "top_features = X.columns[np.argsort(coefs)[-3:]]\n",
    "\n",
    "fig, ax = plt.subplots(figsize=(10, 6))\n",
    "PartialDependenceDisplay.from_estimator(model, X, features=top_features, ax=ax)\n",
    "plt.suptitle(\"Partial Dependence Plots (Top 3 Features)\")\n",
    "plt.tight_layout()\n",
    "plt.show()\n",
    "\n",
    "# 4. SHAP summary plot\n",
    "explainer = shap.Explainer(model, X)\n",
    "shap_values = explainer(X)\n",
    "\n",
    "shap.summary_plot(shap_values, X, plot_type=\"bar\", show=False)\n",
    "plt.title(\"SHAP Summary (Feature Importance - Full Model)\")\n",
    "plt.tight_layout()\n",
    "plt.show()"
   ]
  },
  {
   "cell_type": "markdown",
   "id": "0cbf1021",
   "metadata": {},
   "source": [
    "### Feature Vs. Target Relationship"
   ]
  },
  {
   "cell_type": "code",
   "execution_count": null,
   "id": "c52a94c7",
   "metadata": {},
   "outputs": [],
   "source": [
    "# Understanding feature to target relationships for all\n",
    "\n",
    "for feature in df.columns[:-1]:\n",
    "    plt.figure()\n",
    "    sns.scatterplot(data=df, x=feature, y='target')\n",
    "    plt.title(f'{feature} vs target (Relationship visualization)')\n",
    "    plt.tight_layout()\n",
    "    plt.show()"
   ]
  },
  {
   "cell_type": "markdown",
   "id": "1f20a27f",
   "metadata": {},
   "source": [
    "### Boxplot of all numeric features"
   ]
  },
  {
   "cell_type": "code",
   "execution_count": null,
   "id": "a16e4675",
   "metadata": {},
   "outputs": [],
   "source": [
    "# Finding outliers\n",
    "\n",
    "plt.figure(figsize=(10, 4))\n",
    "sns.boxplot(data=df)\n",
    "plt.xticks(rotation=45)\n",
    "plt.title('Boxplot of All Features (Check for outliers)')\n",
    "plt.tight_layout()\n",
    "plt.show()"
   ]
  },
  {
   "cell_type": "markdown",
   "id": "261acc47",
   "metadata": {},
   "source": [
    "Phik Correlation Heatmap"
   ]
  },
  {
   "cell_type": "code",
   "execution_count": null,
   "id": "46978576",
   "metadata": {},
   "outputs": [],
   "source": [
    "pip install phik"
   ]
  },
  {
   "cell_type": "markdown",
   "id": "a14592e8",
   "metadata": {},
   "source": [
    "# Understanding relationship further\n",
    "\n",
    "phik_corr = df.phik_matrix(interval_cols=df.columns[:-1])\n",
    "plt.figure(figsize=(10, 8))\n",
    "sns.heatmap(phik_corr, annot=True, cmap='coolwarm')\n",
    "plt.title('Phik Correlation Heatmap (Supports categorical + nonlinear)')\n",
    "plt.tight_layout()\n",
    "plt.show()"
   ]
  },
  {
   "cell_type": "markdown",
   "id": "5a2454e3",
   "metadata": {},
   "source": [
    "### Pairplot of selected features"
   ]
  },
  {
   "cell_type": "code",
   "execution_count": null,
   "id": "84e1bb5d",
   "metadata": {},
   "outputs": [],
   "source": [
    "# Understand spot linear or nonlinear patterns between variables\n",
    "\n",
    "sample_features = ['bmi', 'bp', 's5', 'target']\n",
    "sns.pairplot(df[sample_features])\n",
    "plt.suptitle('Pairplot of Selected Features (Interaction check)', y=1.02)\n",
    "plt.tight_layout()\n",
    "plt.show()"
   ]
  },
  {
   "cell_type": "markdown",
   "id": "d403528e",
   "metadata": {},
   "source": [
    "### Residual plot (only for 'bmi' model example)"
   ]
  },
  {
   "cell_type": "code",
   "execution_count": null,
   "id": "fcdbb8be",
   "metadata": {},
   "outputs": [],
   "source": [
    "# Check model assumptions. Good scatter means good fit\n",
    "\n",
    "X = df[['bmi']]\n",
    "y = df['target']\n",
    "X_train, X_test, y_train, y_test = train_test_split(X, y, test_size=0.2, random_state=42)\n",
    "model = LinearRegression()\n",
    "model.fit(X_train, y_train)\n",
    "\n",
    "y_pred = model.predict(X_test)\n",
    "residuals = y_test - y_pred\n",
    "\n",
    "plt.figure()\n",
    "sns.scatterplot(x=y_pred, y=residuals)\n",
    "plt.axhline(0, color='red', linestyle='--')\n",
    "plt.title('Residual Plot (Random scatter = good fit)')\n",
    "plt.xlabel('Predicted')\n",
    "plt.ylabel('Residuals')\n",
    "plt.tight_layout()\n",
    "plt.show()"
   ]
  }
 ],
 "metadata": {
  "kernelspec": {
   "display_name": "venv",
   "language": "python",
   "name": "python3"
  },
  "language_info": {
   "codemirror_mode": {
    "name": "ipython",
    "version": 3
   },
   "file_extension": ".py",
   "mimetype": "text/x-python",
   "name": "python",
   "nbconvert_exporter": "python",
   "pygments_lexer": "ipython3",
   "version": "3.9.0"
  }
 },
 "nbformat": 4,
 "nbformat_minor": 5
}
